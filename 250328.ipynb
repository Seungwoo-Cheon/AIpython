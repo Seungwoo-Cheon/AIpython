{
  "nbformat": 4,
  "nbformat_minor": 0,
  "metadata": {
    "colab": {
      "provenance": []
    },
    "kernelspec": {
      "name": "python3",
      "display_name": "Python 3"
    },
    "language_info": {
      "name": "python"
    }
  },
  "cells": [
    {
      "cell_type": "code",
      "execution_count": 1,
      "metadata": {
        "colab": {
          "base_uri": "https://localhost:8080/"
        },
        "id": "PFHIsjy6S4SR",
        "outputId": "4f42724a-66b1-412a-e23a-de45b6db928f"
      },
      "outputs": [
        {
          "output_type": "stream",
          "name": "stdout",
          "text": [
            "첫 번째 정수를 입력하세요: 4\n",
            "두 번째 정수를 입력하세요: 6\n",
            "4은(는) 6보다 작습니다.\n"
          ]
        }
      ],
      "source": [
        "n1 = int(input(\"첫 번째 정수를 입력하세요: \"))\n",
        "n2 = int(input(\"두 번째 정수를 입력하세요: \"))\n",
        "\n",
        "if n1 > n2:\n",
        "  print(f\"{n1}은(는) {n2}보다 큽니다.\")\n",
        "elif n1 < n2:\n",
        "  print(f\"{n1}은(는) {n2}보다 작습니다.\")\n",
        "else:\n",
        "  print(f\"{n1}와(과) {n2}는 같습니다.\")"
      ]
    },
    {
      "cell_type": "code",
      "source": [
        "n1 = int(input(\"첫 번째 정수를 입력하세요: \"))\n",
        "n2 = int(input(\"두 번째 정수를 입력하세요: \"))\n",
        "n3 = int(input(\"세 번째 정수를 입력하세요: \"))\n",
        "\n",
        "maxn = n1\n",
        "if maxn <= n2:\n",
        "  maxn = n2\n",
        "if maxn <= n3:\n",
        "  maxn = n3\n",
        "\n",
        "print(maxn)"
      ],
      "metadata": {
        "colab": {
          "base_uri": "https://localhost:8080/"
        },
        "id": "dajdzO8eWggN",
        "outputId": "3492182e-4b08-4050-f92d-ce2fc3348137"
      },
      "execution_count": 7,
      "outputs": [
        {
          "output_type": "stream",
          "name": "stdout",
          "text": [
            "첫 번째 정수를 입력하세요: 20\n",
            "두 번째 정수를 입력하세요: 20\n",
            "세 번째 정수를 입력하세요: 10\n",
            "20\n"
          ]
        }
      ]
    },
    {
      "cell_type": "code",
      "source": [
        "s=int(input(\"시험 점수(0~100)를 입력하세요: \"))\n",
        "\n",
        "if 0 <= s <= 100:\n",
        "  if s >= 90:g=\"A\"\n",
        "  elif s >= 80:g=\"B\"\n",
        "  elif s >= 70:g=\"C\"\n",
        "  elif s >= 60:g=\"D\"\n",
        "  else:g=\"F\"\n",
        "  print(f\"당신의 학점은 {g}입니다.\")\n",
        "else:\n",
        "  print(\"점수는 0부터 100 사이의 값이어야 합니다.\")"
      ],
      "metadata": {
        "colab": {
          "base_uri": "https://localhost:8080/"
        },
        "id": "Dr4tQT7gZ6Yf",
        "outputId": "84e21c69-0682-4de6-a4b6-234e21e8423c"
      },
      "execution_count": 19,
      "outputs": [
        {
          "output_type": "stream",
          "name": "stdout",
          "text": [
            "시험 점수(0~100)를 입력하세요: 97\n",
            "당신의 학점은 A입니다.\n"
          ]
        }
      ]
    },
    {
      "cell_type": "code",
      "source": [
        "y=int((input(\"연도를 입력하세요: \")))\n",
        "\n",
        "if (y%4 == 0 and y%100 != 0) or (y%400 == 0):\n",
        "  print(f\"{y}년은 윤년입니다.\")\n",
        "else:\n",
        "  print(f\"{y}년은 윤년이 아닙니다.\")"
      ],
      "metadata": {
        "colab": {
          "base_uri": "https://localhost:8080/"
        },
        "id": "U_jJuTgDc-2j",
        "outputId": "0b103082-af73-402f-e141-23b96ef20c30"
      },
      "execution_count": 30,
      "outputs": [
        {
          "output_type": "stream",
          "name": "stdout",
          "text": [
            "연도를 입력하세요: 203040\n",
            "203040년은 윤년입니다.\n"
          ]
        }
      ]
    },
    {
      "cell_type": "code",
      "source": [
        "for i in range(1,6):\n",
        "  print(\"반복!\",i)"
      ],
      "metadata": {
        "colab": {
          "base_uri": "https://localhost:8080/"
        },
        "id": "w8z7HrKZhS2P",
        "outputId": "d0c012de-7b35-45a1-ac46-afd94193a34e"
      },
      "execution_count": 35,
      "outputs": [
        {
          "output_type": "stream",
          "name": "stdout",
          "text": [
            "반복! 1\n",
            "반복! 2\n",
            "반복! 3\n",
            "반복! 4\n",
            "반복! 5\n"
          ]
        }
      ]
    },
    {
      "cell_type": "code",
      "source": [
        "for i in range(5):\n",
        "  print(\"반복!\",i+1)"
      ],
      "metadata": {
        "colab": {
          "base_uri": "https://localhost:8080/"
        },
        "id": "OfPBtTILmAQa",
        "outputId": "f5caab81-1c1c-415c-9046-db57715c28f5"
      },
      "execution_count": 37,
      "outputs": [
        {
          "output_type": "stream",
          "name": "stdout",
          "text": [
            "반복! 1\n",
            "반복! 2\n",
            "반복! 3\n",
            "반복! 4\n",
            "반복! 5\n"
          ]
        }
      ]
    },
    {
      "cell_type": "code",
      "source": [
        "for i in range(1,10,2):\n",
        "  print(\"반복!\",i)"
      ],
      "metadata": {
        "colab": {
          "base_uri": "https://localhost:8080/"
        },
        "id": "gUtFJF0Ome1U",
        "outputId": "cef63db7-6a5b-4812-935b-db28e3d90471"
      },
      "execution_count": 40,
      "outputs": [
        {
          "output_type": "stream",
          "name": "stdout",
          "text": [
            "반복! 1\n",
            "반복! 3\n",
            "반복! 5\n",
            "반복! 7\n",
            "반복! 9\n"
          ]
        }
      ]
    },
    {
      "cell_type": "code",
      "source": [
        "for i in ['A','B',3,4,5]:\n",
        "  print(\"반복!\",i)"
      ],
      "metadata": {
        "colab": {
          "base_uri": "https://localhost:8080/"
        },
        "id": "dMZnW6IbmhMf",
        "outputId": "0eadff5f-d15e-4238-d5a6-c81496ea2113"
      },
      "execution_count": 43,
      "outputs": [
        {
          "output_type": "stream",
          "name": "stdout",
          "text": [
            "반복! A\n",
            "반복! B\n",
            "반복! 3\n",
            "반복! 4\n",
            "반복! 5\n"
          ]
        }
      ]
    },
    {
      "cell_type": "code",
      "source": [
        "for i in \"Hello\":\n",
        "  print(i)"
      ],
      "metadata": {
        "colab": {
          "base_uri": "https://localhost:8080/"
        },
        "id": "JzLQDRTOmms-",
        "outputId": "98646b39-0cc7-4613-9f5e-4a155b35a31d"
      },
      "execution_count": 46,
      "outputs": [
        {
          "output_type": "stream",
          "name": "stdout",
          "text": [
            "H\n",
            "e\n",
            "l\n",
            "l\n",
            "o\n"
          ]
        }
      ]
    },
    {
      "cell_type": "code",
      "source": [
        "n = int(input(\"양의 정수 N을 입력하세요: \"))\n",
        "\n",
        "s = 0\n",
        "for i in range(1, n+1):\n",
        "  s += i\n",
        "\n",
        "print(f\"{i}번: 1부터 {n}까지의 합은: {s}입니다.\")"
      ],
      "metadata": {
        "colab": {
          "base_uri": "https://localhost:8080/"
        },
        "id": "OCyJMzIloo2E",
        "outputId": "77743e8d-7746-4f47-91d1-4e1b5d64b5b8"
      },
      "execution_count": 53,
      "outputs": [
        {
          "output_type": "stream",
          "name": "stdout",
          "text": [
            "양의 정수 N을 입력하세요: 12313\n",
            "12313번: 1부터 12313까지의 합은: 75811141입니다.\n"
          ]
        }
      ]
    },
    {
      "cell_type": "code",
      "source": [
        "c = 0\n",
        "print(\"0부터 9까지 출력:\")\n",
        "while c < 10:\n",
        "  print(c)\n",
        "  c += 1\n",
        "print(\"while 루프 종료\")"
      ],
      "metadata": {
        "colab": {
          "base_uri": "https://localhost:8080/"
        },
        "id": "V2-yq-xsrRjK",
        "outputId": "575639d9-3c6f-4194-82d6-d46bf1fab5e7"
      },
      "execution_count": 55,
      "outputs": [
        {
          "output_type": "stream",
          "name": "stdout",
          "text": [
            "0부터 9까지 출력:\n",
            "0\n",
            "1\n",
            "2\n",
            "3\n",
            "4\n",
            "5\n",
            "6\n",
            "7\n",
            "8\n",
            "9\n",
            "while 루프 종료\n"
          ]
        }
      ]
    },
    {
      "cell_type": "code",
      "source": [
        "print(\"0부터 9까지 출력:\")\n",
        "for i in range(10):\n",
        "  print(i)\n",
        "print(\"for 루프 종료\")"
      ],
      "metadata": {
        "colab": {
          "base_uri": "https://localhost:8080/"
        },
        "id": "XBE-xL0esF_Q",
        "outputId": "1c9a6e5c-0d68-4df5-81f6-e3fff2146805"
      },
      "execution_count": 60,
      "outputs": [
        {
          "output_type": "stream",
          "name": "stdout",
          "text": [
            "0부터 9까지 출력:\n",
            "0\n",
            "1\n",
            "2\n",
            "3\n",
            "4\n",
            "5\n",
            "6\n",
            "7\n",
            "8\n",
            "9\n",
            "for 루프 종료\n"
          ]
        }
      ]
    },
    {
      "cell_type": "code",
      "source": [],
      "metadata": {
        "id": "a0rFYf-bsus0"
      },
      "execution_count": null,
      "outputs": []
    }
  ]
}
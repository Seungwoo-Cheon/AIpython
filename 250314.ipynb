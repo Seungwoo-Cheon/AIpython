{
  "nbformat": 4,
  "nbformat_minor": 0,
  "metadata": {
    "colab": {
      "provenance": []
    },
    "kernelspec": {
      "name": "python3",
      "display_name": "Python 3"
    },
    "language_info": {
      "name": "python"
    }
  },
  "cells": [
    {
      "cell_type": "code",
      "execution_count": 6,
      "metadata": {
        "colab": {
          "base_uri": "https://localhost:8080/"
        },
        "id": "nEriFooydP8J",
        "outputId": "90a3c9b2-2176-4dbb-ac23-5ad74621b369"
      },
      "outputs": [
        {
          "output_type": "stream",
          "name": "stdout",
          "text": [
            "반지름이 5 인 원의 면적은 78.5398 입니다\n"
          ]
        }
      ],
      "source": [
        "#문제 1. 반지름이 5인 원의 면적을 구하시오. 원주율 값은 3.141592로 계산합니다.\n",
        "#출력예시. 반지름이 5인 원의 면적은 78.5398 입니다\n",
        "\n",
        "r=5\n",
        "p=3.141592\n",
        "a=p*r**2\n",
        "print(\"반지름이\",r,\"인 원의 면적은\",a,\"입니다\")"
      ]
    },
    {
      "cell_type": "code",
      "source": [
        "#문제 2. 분(정수)을 시간과 분으로 변환하여 출력하시오.\n",
        "#출력예시. 100분은 1시간 40분 입니다.\n",
        "\n",
        "min=100\n",
        "hr=min//60\n",
        "min2=min-hr*60\n",
        "print(str(min)+\"분은\",str(hr)+\"시간\",str(min2)+\"분 입니다.\")"
      ],
      "metadata": {
        "id": "lf3qoGljdieA",
        "colab": {
          "base_uri": "https://localhost:8080/"
        },
        "outputId": "12d25b5c-b021-47e7-96a2-a2aadea58215"
      },
      "execution_count": 5,
      "outputs": [
        {
          "output_type": "stream",
          "name": "stdout",
          "text": [
            "100분은 1시간 40분 입니다.\n"
          ]
        }
      ]
    }
  ]
}
{
 "cells": [
  {
   "cell_type": "code",
   "execution_count": 1,
   "id": "599df499-2751-4635-aac2-f5f2e48eb436",
   "metadata": {},
   "outputs": [
    {
     "name": "stdin",
     "output_type": "stream",
     "text": [
      "나이를 입력하세요:  10\n"
     ]
    },
    {
     "name": "stdout",
     "output_type": "stream",
     "text": [
      "당신은 내년에 11 살입니다.\n"
     ]
    }
   ],
   "source": [
    "age=input(\"나이를 입력하세요: \")\n",
    "age=int(age)\n",
    "print(\"당신은 내년에\",age+1,\"살입니다.\")"
   ]
  },
  {
   "cell_type": "code",
   "execution_count": 2,
   "id": "f667d950-bf7c-4bf7-97a0-2521ce088156",
   "metadata": {},
   "outputs": [
    {
     "name": "stdin",
     "output_type": "stream",
     "text": [
      "나이를 입력하세요:  10\n"
     ]
    },
    {
     "name": "stdout",
     "output_type": "stream",
     "text": [
      "당신은 내년에 11 살입니다.\n"
     ]
    }
   ],
   "source": [
    "age=input(\"나이를 입력하세요: \")\n",
    "age=int(age)\n",
    "age=age+1\n",
    "print(\"당신은 내년에\",age,\"살입니다.\")"
   ]
  },
  {
   "cell_type": "code",
   "execution_count": 3,
   "id": "1c17df26-e813-4288-b00f-6d935a23714f",
   "metadata": {},
   "outputs": [
    {
     "name": "stdin",
     "output_type": "stream",
     "text": [
      "나이를 입력하세요:  10\n"
     ]
    },
    {
     "ename": "TypeError",
     "evalue": "can only concatenate str (not \"int\") to str",
     "output_type": "error",
     "traceback": [
      "\u001b[0;31m---------------------------------------------------------------------------\u001b[0m",
      "\u001b[0;31mTypeError\u001b[0m                                 Traceback (most recent call last)",
      "Cell \u001b[0;32mIn[3], line 2\u001b[0m\n\u001b[1;32m      1\u001b[0m age\u001b[38;5;241m=\u001b[39m\u001b[38;5;28minput\u001b[39m(\u001b[38;5;124m\"\u001b[39m\u001b[38;5;124m나이를 입력하세요: \u001b[39m\u001b[38;5;124m\"\u001b[39m)\n\u001b[0;32m----> 2\u001b[0m \u001b[38;5;28mprint\u001b[39m(\u001b[38;5;124m\"\u001b[39m\u001b[38;5;124m당신은 내년에\u001b[39m\u001b[38;5;124m\"\u001b[39m,\u001b[43mage\u001b[49m\u001b[38;5;241;43m+\u001b[39;49m\u001b[38;5;241;43m1\u001b[39;49m,\u001b[38;5;124m\"\u001b[39m\u001b[38;5;124m살입니다.\u001b[39m\u001b[38;5;124m\"\u001b[39m)\n",
      "\u001b[0;31mTypeError\u001b[0m: can only concatenate str (not \"int\") to str"
     ]
    }
   ],
   "source": [
    "age=input(\"나이를 입력하세요: \")\n",
    "print(\"당신은 내년에\",age+1,\"살입니다.\")"
   ]
  },
  {
   "cell_type": "code",
   "execution_count": 6,
   "id": "31c886df-2bae-4e6b-9569-b6845577f5a4",
   "metadata": {},
   "outputs": [
    {
     "name": "stdin",
     "output_type": "stream",
     "text": [
      "나이를 입력하세요:  10\n"
     ]
    },
    {
     "name": "stdout",
     "output_type": "stream",
     "text": [
      "당신은 내년에 11 살입니다.\n"
     ]
    }
   ],
   "source": [
    "age=int(input(\"나이를 입력하세요: \"))\n",
    "print(\"당신은 내년에\",age+1,\"살입니다.\")"
   ]
  },
  {
   "cell_type": "code",
   "execution_count": 7,
   "id": "d56ad0f6-e854-48a4-a1f2-92f7a273a003",
   "metadata": {},
   "outputs": [
    {
     "name": "stdin",
     "output_type": "stream",
     "text": [
      "나이를 입력하세요:  10\n"
     ]
    },
    {
     "name": "stdout",
     "output_type": "stream",
     "text": [
      "당신은 내년에 11.0 살입니다.\n"
     ]
    }
   ],
   "source": [
    "age=float(input(\"나이를 입력하세요: \"))\n",
    "print(\"당신은 내년에\",age+1,\"살입니다.\")"
   ]
  },
  {
   "cell_type": "code",
   "execution_count": 9,
   "id": "37bdc532-cdf9-4ce9-be4b-3468b200f84a",
   "metadata": {},
   "outputs": [
    {
     "name": "stdin",
     "output_type": "stream",
     "text": [
      "나이를 입력하세요:  10\n"
     ]
    },
    {
     "name": "stdout",
     "output_type": "stream",
     "text": [
      "10 살입니다.\n"
     ]
    }
   ],
   "source": [
    "age=int(input(\"나이를 입력하세요: \"))\n",
    "print(age,\"살입니다.\")"
   ]
  },
  {
   "cell_type": "code",
   "execution_count": 11,
   "id": "6430f190-912a-404b-a4ee-5ad0f7914140",
   "metadata": {},
   "outputs": [
    {
     "name": "stdin",
     "output_type": "stream",
     "text": [
      "나이를 입력하세요:  10\n"
     ]
    },
    {
     "name": "stdout",
     "output_type": "stream",
     "text": [
      "10살입니다.\n"
     ]
    }
   ],
   "source": [
    "age=str(input(\"나이를 입력하세요: \"))\n",
    "print(age+\"살입니다.\")"
   ]
  },
  {
   "cell_type": "code",
   "execution_count": 12,
   "id": "36be5b5f-3e06-4606-837c-81120edf745a",
   "metadata": {},
   "outputs": [
    {
     "data": {
      "text/plain": [
       "'12'"
      ]
     },
     "execution_count": 12,
     "metadata": {},
     "output_type": "execute_result"
    }
   ],
   "source": [
    "a=str(1)\n",
    "b=str(2)\n",
    "a+b"
   ]
  },
  {
   "cell_type": "code",
   "execution_count": 13,
   "id": "e5ca1a53-ba06-4de7-b050-ee8f5a5d77e7",
   "metadata": {},
   "outputs": [
    {
     "data": {
      "text/plain": [
       "3"
      ]
     },
     "execution_count": 13,
     "metadata": {},
     "output_type": "execute_result"
    }
   ],
   "source": [
    "a=int(1)\n",
    "b=int(2)\n",
    "a+b"
   ]
  },
  {
   "cell_type": "code",
   "execution_count": 26,
   "id": "25e45476-7840-4965-ac7d-cb5cbd7b1c07",
   "metadata": {},
   "outputs": [
    {
     "name": "stdin",
     "output_type": "stream",
     "text": [
      "your score:  88\n"
     ]
    },
    {
     "name": "stdout",
     "output_type": "stream",
     "text": [
      "좋아요, 합격입니다!\n"
     ]
    }
   ],
   "source": [
    "score=int(input(\"your score: \"))\n",
    "\n",
    "if score>=90:print(\"정말 잘했어요!\")\n",
    "elif score>=60:print(\"좋아요, 합격입니다!\")\n",
    "else:print(\"다음에 더 잘해봐요!.\")"
   ]
  },
  {
   "cell_type": "code",
   "execution_count": null,
   "id": "0b8f3177-2470-426b-b8a5-c36e84d31059",
   "metadata": {},
   "outputs": [],
   "source": []
  },
  {
   "cell_type": "code",
   "execution_count": 31,
   "id": "fee8e6a1-3eac-4595-8658-189e3b5dd6e7",
   "metadata": {},
   "outputs": [
    {
     "name": "stdin",
     "output_type": "stream",
     "text": [
      "number:  0.526\n"
     ]
    },
    {
     "name": "stdout",
     "output_type": "stream",
     "text": [
      "양수\n"
     ]
    }
   ],
   "source": [
    "n=float(input(\"number: \"))\n",
    "\n",
    "if n>0:print(\"양수\")\n",
    "elif n<0:print(\"음수\")\n",
    "else:print(0)"
   ]
  },
  {
   "cell_type": "code",
   "execution_count": null,
   "id": "b350eab7-d243-4eac-85e1-a4492b08035c",
   "metadata": {},
   "outputs": [],
   "source": [
    "마트에 가서\n",
    "사과 3개를 사오고\n",
    "만약에 수박 있으면 (수박을) 하나 사와\n",
    "\n",
    "개발자는 사과를 하나 사온다 깔깔깔"
   ]
  },
  {
   "cell_type": "code",
   "execution_count": 61,
   "id": "104840a6-aca3-4798-820e-f69c22419d2d",
   "metadata": {},
   "outputs": [
    {
     "name": "stdin",
     "output_type": "stream",
     "text": [
      "number:  3215\n"
     ]
    },
    {
     "name": "stdout",
     "output_type": "stream",
     "text": [
      "홀수\n"
     ]
    }
   ],
   "source": [
    "n=int(input(\"number: \"))\n",
    "\n",
    "if n%2==0:print(\"짝수\")\n",
    "else:print(\"홀수\")"
   ]
  },
  {
   "cell_type": "code",
   "execution_count": 52,
   "id": "6f0d6436-19af-4528-ab52-e00b255b9943",
   "metadata": {},
   "outputs": [
    {
     "name": "stdin",
     "output_type": "stream",
     "text": [
      " 2 2\n"
     ]
    }
   ],
   "source": [
    "a,b=map(int,input().split())"
   ]
  },
  {
   "cell_type": "code",
   "execution_count": 54,
   "id": "566a1d43-a86a-4e6d-9291-cd18a73198c3",
   "metadata": {},
   "outputs": [
    {
     "data": {
      "text/plain": [
       "2"
      ]
     },
     "execution_count": 54,
     "metadata": {},
     "output_type": "execute_result"
    }
   ],
   "source": [
    "a"
   ]
  },
  {
   "cell_type": "code",
   "execution_count": 55,
   "id": "df700e18-f539-447f-9d79-9af2f22fb882",
   "metadata": {},
   "outputs": [
    {
     "data": {
      "text/plain": [
       "2"
      ]
     },
     "execution_count": 55,
     "metadata": {},
     "output_type": "execute_result"
    }
   ],
   "source": [
    "b"
   ]
  },
  {
   "cell_type": "code",
   "execution_count": 79,
   "id": "49513e39-101f-486f-8157-4e43c73e404e",
   "metadata": {},
   "outputs": [
    {
     "name": "stdin",
     "output_type": "stream",
     "text": [
      " 3 3\n"
     ]
    },
    {
     "name": "stdout",
     "output_type": "stream",
     "text": [
      "무승부\n"
     ]
    }
   ],
   "source": [
    "#코드플레이스 정답\n",
    "a,b=map(int,input().split())\n",
    "\n",
    "if (a>3)or(b>3):print(\"잘못된입력\")\n",
    "elif a==b:print(\"무승부\")\n",
    "elif a-b==(-2 or 1):print(\"A승B패\")\n",
    "else:print(\"B승A패\")"
   ]
  },
  {
   "cell_type": "code",
   "execution_count": 80,
   "id": "511bb6fc-6bab-4115-a741-943f549e9aa2",
   "metadata": {},
   "outputs": [
    {
     "name": "stdin",
     "output_type": "stream",
     "text": [
      " 3 2\n"
     ]
    },
    {
     "name": "stdout",
     "output_type": "stream",
     "text": [
      "잘못된입력\n"
     ]
    }
   ],
   "source": [
    "#코드플레이스 오답\n",
    "a,b=map(int,input().split())\n",
    "\n",
    "if (a!=(1 or 2 or 3))or(b!=(1 or 2 or 3)):print(\"잘못된입력\")\n",
    "elif a==b:print(\"무승부\")\n",
    "elif a-b==(-2 or 1):print(\"A승B패\")\n",
    "else:print(\"B승A패\")"
   ]
  }
 ],
 "metadata": {
  "kernelspec": {
   "display_name": "Python 3 (ipykernel)",
   "language": "python",
   "name": "python3"
  },
  "language_info": {
   "codemirror_mode": {
    "name": "ipython",
    "version": 3
   },
   "file_extension": ".py",
   "mimetype": "text/x-python",
   "name": "python",
   "nbconvert_exporter": "python",
   "pygments_lexer": "ipython3",
   "version": "3.12.6"
  }
 },
 "nbformat": 4,
 "nbformat_minor": 5
}

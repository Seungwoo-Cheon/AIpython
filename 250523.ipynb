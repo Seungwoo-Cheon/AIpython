{
  "nbformat": 4,
  "nbformat_minor": 0,
  "metadata": {
    "colab": {
      "provenance": []
    },
    "kernelspec": {
      "name": "python3",
      "display_name": "Python 3"
    },
    "language_info": {
      "name": "python"
    }
  },
  "cells": [
    {
      "cell_type": "code",
      "execution_count": 1,
      "metadata": {
        "id": "EsFaQzGQ2TAh"
      },
      "outputs": [],
      "source": [
        "import pandas as pd\n",
        "import numpy as np\n",
        "import matplotlib.pyplot as plt"
      ]
    },
    {
      "cell_type": "code",
      "source": [
        "!apt-get -qq install fonts-nanum\n",
        "import matplotlib.font_manager as fm\n",
        "plt.rc('font', family='NanumGothic')\n",
        "font_path = \"/usr/share/fonts/truetype/nanum/NanumGothic.ttf\"\n",
        "font_prop = fm.FontProperties(fname=font_path)\n",
        "import logging\n",
        "import matplotlib\n",
        "logging.getLogger('matplotlib.font_manager').setLevel(logging.ERROR)"
      ],
      "metadata": {
        "colab": {
          "base_uri": "https://localhost:8080/"
        },
        "id": "0L61Jy4z782Y",
        "outputId": "45ab93ee-8753-412b-fb1a-3eae4fa0ebb1"
      },
      "execution_count": 48,
      "outputs": [
        {
          "output_type": "stream",
          "name": "stdout",
          "text": [
            "Selecting previously unselected package fonts-nanum.\n",
            "(Reading database ... 126102 files and directories currently installed.)\n",
            "Preparing to unpack .../fonts-nanum_20200506-1_all.deb ...\n",
            "Unpacking fonts-nanum (20200506-1) ...\n",
            "Setting up fonts-nanum (20200506-1) ...\n",
            "Processing triggers for fontconfig (2.13.1-4.2ubuntu5) ...\n"
          ]
        }
      ]
    },
    {
      "cell_type": "code",
      "source": [
        "df = pd.read_csv('/content/example_data.csv', encoding='utf-8')"
      ],
      "metadata": {
        "id": "1LtlJ1uu1sOu"
      },
      "execution_count": 23,
      "outputs": []
    },
    {
      "cell_type": "markdown",
      "source": [
        "#문제 1, 2, 3, 4, 5, 6, 7, 9"
      ],
      "metadata": {
        "id": "1IjN_Vv69qbq"
      }
    },
    {
      "cell_type": "code",
      "source": [
        "# 문제 1\n",
        "df = pd.read_csv('/content/example_data.csv', encoding='utf-8')\n",
        "print('문제1 :데이터프레임')\n",
        "print(df)"
      ],
      "metadata": {
        "colab": {
          "base_uri": "https://localhost:8080/"
        },
        "id": "55y7FSL49W2j",
        "outputId": "39ce4b7e-7a53-48e9-ae40-a0392d0e46bf"
      },
      "execution_count": 53,
      "outputs": [
        {
          "output_type": "stream",
          "name": "stdout",
          "text": [
            "문제1 :데이터프레임\n",
            "    학번    이름   학년   점수 분반  공부시간\n",
            "0    1  신사임당  NaN   69  B     4\n",
            "1    2   홍길동  1.0   92  B     3\n",
            "2    3   강감찬  4.0   91  C    20\n",
            "3    4   강감찬  2.0   70  C     5\n",
            "4    5   강감찬  3.0   83  C     5\n",
            "5    6   이순신  4.0   95  A     0\n",
            "6    7   강감찬  4.0   71  C     1\n",
            "7    8   김유신  NaN   88  B     5\n",
            "8    9  신사임당  3.0   94  A     9\n",
            "9   10   홍길동  NaN   60  B     3\n",
            "10  11   NaN  1.0  200  C     0\n",
            "11  12  신사임당  2.0   96  A    20\n",
            "12  13   김유신  4.0   65  A     0\n",
            "13  14   NaN  2.0   98  C     1\n",
            "14  15   홍길동  4.0   77  A     2\n",
            "15  16   이순신  4.0   75  A     4\n",
            "16  17   NaN  3.0   64  A     2\n",
            "17  18   홍길동  4.0   91  A     0\n",
            "18  19   이순신  1.0  200  A     3\n",
            "19  20  신사임당  2.0   61  A     2\n",
            "20  20  신사임당  2.0   61  A     2\n"
          ]
        }
      ]
    },
    {
      "cell_type": "code",
      "source": [
        "# 문제 2\n",
        "print('문제2 :데이터프레임 정보 요약')\n",
        "print(df.info())"
      ],
      "metadata": {
        "colab": {
          "base_uri": "https://localhost:8080/"
        },
        "id": "Nhzl8w5z9YG7",
        "outputId": "877cdc35-c5d4-4109-9395-16b31079d78c"
      },
      "execution_count": 54,
      "outputs": [
        {
          "output_type": "stream",
          "name": "stdout",
          "text": [
            "문제2 :데이터프레임 정보 요약\n",
            "<class 'pandas.core.frame.DataFrame'>\n",
            "RangeIndex: 21 entries, 0 to 20\n",
            "Data columns (total 6 columns):\n",
            " #   Column  Non-Null Count  Dtype  \n",
            "---  ------  --------------  -----  \n",
            " 0   학번      21 non-null     int64  \n",
            " 1   이름      18 non-null     object \n",
            " 2   학년      18 non-null     float64\n",
            " 3   점수      21 non-null     int64  \n",
            " 4   분반      21 non-null     object \n",
            " 5   공부시간    21 non-null     int64  \n",
            "dtypes: float64(1), int64(3), object(2)\n",
            "memory usage: 1.1+ KB\n",
            "None\n"
          ]
        }
      ]
    },
    {
      "cell_type": "code",
      "source": [
        "# 문제 3\n",
        "print('3번: 숫자형 데이터 기술 통계량')\n",
        "print(df.describe())"
      ],
      "metadata": {
        "colab": {
          "base_uri": "https://localhost:8080/"
        },
        "id": "tAzgzx1N9adP",
        "outputId": "7152bf21-8487-4ecc-a019-742fabed75d7"
      },
      "execution_count": 55,
      "outputs": [
        {
          "output_type": "stream",
          "name": "stdout",
          "text": [
            "3번: 숫자형 데이터 기술 통계량\n",
            "              학번         학년          점수       공부시간\n",
            "count  21.000000  18.000000   21.000000  21.000000\n",
            "mean   10.952381   2.777778   90.523810   4.333333\n",
            "std     6.127611   1.165966   38.647922   5.650959\n",
            "min     1.000000   1.000000   60.000000   0.000000\n",
            "25%     6.000000   2.000000   69.000000   1.000000\n",
            "50%    11.000000   3.000000   83.000000   3.000000\n",
            "75%    16.000000   4.000000   94.000000   5.000000\n",
            "max    20.000000   4.000000  200.000000  20.000000\n"
          ]
        }
      ]
    },
    {
      "cell_type": "code",
      "source": [
        "# 문제 4\n",
        "print('문제4: 각 열의 결측치 확인')\n",
        "print(df.isnull().sum())"
      ],
      "metadata": {
        "colab": {
          "base_uri": "https://localhost:8080/"
        },
        "id": "L-TNvCRF9cxt",
        "outputId": "0564969d-e66d-4905-b91b-41c668ee8497"
      },
      "execution_count": 56,
      "outputs": [
        {
          "output_type": "stream",
          "name": "stdout",
          "text": [
            "문제4: 각 열의 결측치 확인\n",
            "학번      0\n",
            "이름      3\n",
            "학년      3\n",
            "점수      0\n",
            "분반      0\n",
            "공부시간    0\n",
            "dtype: int64\n"
          ]
        }
      ]
    },
    {
      "cell_type": "code",
      "source": [
        "# 문제 5\n",
        "df_outl = df[(df['점수']>100) | (df['공부시간']>10)]\n",
        "n = len(df_outl)\n",
        "\n",
        "print('문제5: 이상치 확인 (조건식)\\n')\n",
        "print(f'이상치 개수: {n}\\n')\n",
        "print('이상치 데이터:')\n",
        "print(df_outl)"
      ],
      "metadata": {
        "colab": {
          "base_uri": "https://localhost:8080/"
        },
        "id": "hNoiZFLN9enH",
        "outputId": "d22565ee-3817-424c-b4b9-ecc307e8059a"
      },
      "execution_count": 57,
      "outputs": [
        {
          "output_type": "stream",
          "name": "stdout",
          "text": [
            "문제5: 이상치 확인 (조건식)\n",
            "\n",
            "이상치 개수: 4\n",
            "\n",
            "이상치 데이터:\n",
            "    학번    이름   학년   점수 분반  공부시간\n",
            "2    3   강감찬  4.0   91  C    20\n",
            "10  11   NaN  1.0  200  C     0\n",
            "11  12  신사임당  2.0   96  A    20\n",
            "18  19   이순신  1.0  200  A     3\n"
          ]
        }
      ]
    },
    {
      "cell_type": "code",
      "source": [
        "# 문제 6\n",
        "df_dupl = df[df.duplicated(keep = False)] #중복된 거 모두 포함\n",
        "n = len(df_dupl)\n",
        "\n",
        "print('문제 6: 완전 중복 행 확인')\n",
        "print('중복 제거 전 데이터프레임 크기:', df.shape)\n",
        "print(f'완전 중복 행 개수: {n}')\n",
        "print(df_dupl)"
      ],
      "metadata": {
        "colab": {
          "base_uri": "https://localhost:8080/"
        },
        "id": "0HdrT2wE9hIU",
        "outputId": "a21a22f8-a3d0-4896-d390-6361182e7451"
      },
      "execution_count": 58,
      "outputs": [
        {
          "output_type": "stream",
          "name": "stdout",
          "text": [
            "문제 6: 완전 중복 행 확인\n",
            "중복 제거 전 데이터프레임 크기: (21, 6)\n",
            "완전 중복 행 개수: 2\n",
            "    학번    이름   학년  점수 분반  공부시간\n",
            "19  20  신사임당  2.0  61  A     2\n",
            "20  20  신사임당  2.0  61  A     2\n"
          ]
        }
      ]
    },
    {
      "cell_type": "code",
      "source": [
        "# 문제 7\n",
        "df_clean = df.drop_duplicates()\n",
        "n = len(df) - len(df_clean)\n",
        "\n",
        "print('문제7: 완전 중복 제거')\n",
        "print('중복 제거 후 데이터프레임 크기:', df_clean.shape)\n",
        "print(f'제거된 행 수: {n}')\n",
        "print(df_clean)"
      ],
      "metadata": {
        "colab": {
          "base_uri": "https://localhost:8080/"
        },
        "id": "jUfLIsll9jAp",
        "outputId": "0e522841-8b1f-4ec3-b212-1622237c1523"
      },
      "execution_count": 59,
      "outputs": [
        {
          "output_type": "stream",
          "name": "stdout",
          "text": [
            "문제7: 완전 중복 제거\n",
            "중복 제거 후 데이터프레임 크기: (20, 6)\n",
            "제거된 행 수: 1\n",
            "    학번    이름   학년   점수 분반  공부시간\n",
            "0    1  신사임당  NaN   69  B     4\n",
            "1    2   홍길동  1.0   92  B     3\n",
            "2    3   강감찬  4.0   91  C    20\n",
            "3    4   강감찬  2.0   70  C     5\n",
            "4    5   강감찬  3.0   83  C     5\n",
            "5    6   이순신  4.0   95  A     0\n",
            "6    7   강감찬  4.0   71  C     1\n",
            "7    8   김유신  NaN   88  B     5\n",
            "8    9  신사임당  3.0   94  A     9\n",
            "9   10   홍길동  NaN   60  B     3\n",
            "10  11   NaN  1.0  200  C     0\n",
            "11  12  신사임당  2.0   96  A    20\n",
            "12  13   김유신  4.0   65  A     0\n",
            "13  14   NaN  2.0   98  C     1\n",
            "14  15   홍길동  4.0   77  A     2\n",
            "15  16   이순신  4.0   75  A     4\n",
            "16  17   NaN  3.0   64  A     2\n",
            "17  18   홍길동  4.0   91  A     0\n",
            "18  19   이순신  1.0  200  A     3\n",
            "19  20  신사임당  2.0   61  A     2\n"
          ]
        }
      ]
    },
    {
      "cell_type": "code",
      "source": [
        "# 문제 9\n",
        "import matplotlib.pyplot as plt\n",
        "import seaborn as sns\n",
        "plt.rc('font', family='NanumBarunGothic') #한글 폰트\n",
        "plt.figure(figsize=(10,6))\n",
        "plt.scatter(df_clean['공부시간'], df_clean['점수'], alpha=0.6)\n",
        "plt.title('원본 데이터: 공부시간 vs 점수')\n",
        "plt.xlabel('공부시간')\n",
        "plt.ylabel('점수')\n",
        "plt.grid(True, alpha=0.2)\n",
        "plt.show()"
      ],
      "metadata": {
        "colab": {
          "base_uri": "https://localhost:8080/",
          "height": 816
        },
        "id": "7LXn1FYk9jrm",
        "outputId": "848ffa14-7890-4e80-a03f-ad2710b4a3da"
      },
      "execution_count": 60,
      "outputs": [
        {
          "output_type": "stream",
          "name": "stderr",
          "text": [
            "/usr/local/lib/python3.11/dist-packages/IPython/core/pylabtools.py:151: UserWarning: Glyph 51216 (\\N{HANGUL SYLLABLE JEOM}) missing from font(s) DejaVu Sans.\n",
            "  fig.canvas.print_figure(bytes_io, **kw)\n",
            "/usr/local/lib/python3.11/dist-packages/IPython/core/pylabtools.py:151: UserWarning: Glyph 49688 (\\N{HANGUL SYLLABLE SU}) missing from font(s) DejaVu Sans.\n",
            "  fig.canvas.print_figure(bytes_io, **kw)\n",
            "/usr/local/lib/python3.11/dist-packages/IPython/core/pylabtools.py:151: UserWarning: Glyph 50896 (\\N{HANGUL SYLLABLE WEON}) missing from font(s) DejaVu Sans.\n",
            "  fig.canvas.print_figure(bytes_io, **kw)\n",
            "/usr/local/lib/python3.11/dist-packages/IPython/core/pylabtools.py:151: UserWarning: Glyph 48376 (\\N{HANGUL SYLLABLE BON}) missing from font(s) DejaVu Sans.\n",
            "  fig.canvas.print_figure(bytes_io, **kw)\n",
            "/usr/local/lib/python3.11/dist-packages/IPython/core/pylabtools.py:151: UserWarning: Glyph 45936 (\\N{HANGUL SYLLABLE DE}) missing from font(s) DejaVu Sans.\n",
            "  fig.canvas.print_figure(bytes_io, **kw)\n",
            "/usr/local/lib/python3.11/dist-packages/IPython/core/pylabtools.py:151: UserWarning: Glyph 51060 (\\N{HANGUL SYLLABLE I}) missing from font(s) DejaVu Sans.\n",
            "  fig.canvas.print_figure(bytes_io, **kw)\n",
            "/usr/local/lib/python3.11/dist-packages/IPython/core/pylabtools.py:151: UserWarning: Glyph 53552 (\\N{HANGUL SYLLABLE TEO}) missing from font(s) DejaVu Sans.\n",
            "  fig.canvas.print_figure(bytes_io, **kw)\n",
            "/usr/local/lib/python3.11/dist-packages/IPython/core/pylabtools.py:151: UserWarning: Glyph 44277 (\\N{HANGUL SYLLABLE GONG}) missing from font(s) DejaVu Sans.\n",
            "  fig.canvas.print_figure(bytes_io, **kw)\n",
            "/usr/local/lib/python3.11/dist-packages/IPython/core/pylabtools.py:151: UserWarning: Glyph 48512 (\\N{HANGUL SYLLABLE BU}) missing from font(s) DejaVu Sans.\n",
            "  fig.canvas.print_figure(bytes_io, **kw)\n",
            "/usr/local/lib/python3.11/dist-packages/IPython/core/pylabtools.py:151: UserWarning: Glyph 49884 (\\N{HANGUL SYLLABLE SI}) missing from font(s) DejaVu Sans.\n",
            "  fig.canvas.print_figure(bytes_io, **kw)\n",
            "/usr/local/lib/python3.11/dist-packages/IPython/core/pylabtools.py:151: UserWarning: Glyph 44036 (\\N{HANGUL SYLLABLE GAN}) missing from font(s) DejaVu Sans.\n",
            "  fig.canvas.print_figure(bytes_io, **kw)\n"
          ]
        },
        {
          "output_type": "display_data",
          "data": {
            "text/plain": [
              "<Figure size 1000x600 with 1 Axes>"
            ],
            "image/png": "[encoded data removed]"
          },
          "metadata": {}
        }
      ]
    },
    {
      "cell_type": "markdown",
      "source": [
        "#문제 10"
      ],
      "metadata": {
        "id": "hAppokm64uPy"
      }
    },
    {
      "cell_type": "code",
      "source": [
        "# 문제 10\n",
        "Q1_s = df['점수'].quantile(0.25)\n",
        "Q3_s = df['점수'].quantile(0.75)\n",
        "IQR_s = Q3_s - Q1_s\n",
        "\n",
        "LB_s = Q1_s - 1.5 * IQR_s\n",
        "UB_s = Q3_s + 1.5 * IQR_s\n",
        "\n",
        "OTL_s = df[(df['점수'] < LB_s) | (df['점수'] > UB_s)]\n",
        "\n",
        "print('점수 이상치:')\n",
        "print(OTL_s)"
      ],
      "metadata": {
        "colab": {
          "base_uri": "https://localhost:8080/"
        },
        "id": "iHViAjoU1It9",
        "outputId": "d37fcf5b-efa0-4722-f755-5e66a5bc2935"
      },
      "execution_count": 26,
      "outputs": [
        {
          "output_type": "stream",
          "name": "stdout",
          "text": [
            "점수 이상치:\n",
            "    학번   이름   학년   점수 분반  공부시간\n",
            "10  11  NaN  1.0  200  C     0\n",
            "18  19  이순신  1.0  200  A     3\n"
          ]
        }
      ]
    },
    {
      "cell_type": "code",
      "source": [
        "Q1_t = df['공부시간'].quantile(0.25)\n",
        "Q3_t = df['공부시간'].quantile(0.75)\n",
        "IQR_t = Q3_t - Q1_t\n",
        "\n",
        "LB_t = Q1_t - 1.5 * IQR_t\n",
        "UB_t = Q3_t + 1.5 * IQR_t\n",
        "\n",
        "OTL_t = df[(df['공부시간'] < LB_t) | (df['공부시간'] > UB_t)]\n",
        "\n",
        "print('공부시간 이상치:')\n",
        "print(OTL_t)"
      ],
      "metadata": {
        "colab": {
          "base_uri": "https://localhost:8080/"
        },
        "id": "a1yVur9i2E0K",
        "outputId": "c767bfd0-55a4-4afa-84b8-a4bed620e06a"
      },
      "execution_count": 27,
      "outputs": [
        {
          "output_type": "stream",
          "name": "stdout",
          "text": [
            "공부시간 이상치:\n",
            "    학번    이름   학년  점수 분반  공부시간\n",
            "2    3   강감찬  4.0  91  C    20\n",
            "11  12  신사임당  2.0  96  A    20\n"
          ]
        }
      ]
    },
    {
      "cell_type": "code",
      "source": [
        "df_OTLx = df[\n",
        "    (df['점수'] > LB_s) &\n",
        "    (df['점수'] < UB_s) &\n",
        "    (df['공부시간'] > LB_t) &\n",
        "    (df['공부시간'] < UB_t)\n",
        "]\n",
        "\n",
        "print('이상치가 제거된 데이터프레임:')\n",
        "print(df_OTLx)"
      ],
      "metadata": {
        "colab": {
          "base_uri": "https://localhost:8080/"
        },
        "id": "FGlOJ_Jo2_gs",
        "outputId": "8d818fa9-484d-4f3b-e17a-1f6692887807"
      },
      "execution_count": 32,
      "outputs": [
        {
          "output_type": "stream",
          "name": "stdout",
          "text": [
            "이상치가 제거된 데이터프레임:\n",
            "    학번    이름   학년  점수 분반  공부시간\n",
            "0    1  신사임당  NaN  69  B     4\n",
            "1    2   홍길동  1.0  92  B     3\n",
            "3    4   강감찬  2.0  70  C     5\n",
            "4    5   강감찬  3.0  83  C     5\n",
            "5    6   이순신  4.0  95  A     0\n",
            "6    7   강감찬  4.0  71  C     1\n",
            "7    8   김유신  NaN  88  B     5\n",
            "8    9  신사임당  3.0  94  A     9\n",
            "9   10   홍길동  NaN  60  B     3\n",
            "12  13   김유신  4.0  65  A     0\n",
            "13  14   NaN  2.0  98  C     1\n",
            "14  15   홍길동  4.0  77  A     2\n",
            "15  16   이순신  4.0  75  A     4\n",
            "16  17   NaN  3.0  64  A     2\n",
            "17  18   홍길동  4.0  91  A     0\n",
            "19  20  신사임당  2.0  61  A     2\n",
            "20  20  신사임당  2.0  61  A     2\n"
          ]
        }
      ]
    },
    {
      "cell_type": "markdown",
      "source": [
        "# 문제 11"
      ],
      "metadata": {
        "id": "ZiEoY4us42Px"
      }
    },
    {
      "cell_type": "code",
      "source": [
        "print('문제 11. 분반별 점수 평균')\n",
        "\n",
        "class_m = df_OTLx.groupby('분반')['점수'].mean()\n",
        "\n",
        "print(class_m.round(2))"
      ],
      "metadata": {
        "colab": {
          "base_uri": "https://localhost:8080/"
        },
        "id": "bcq_pAGz4Y66",
        "outputId": "360dc828-53cc-4df9-d6a1-c8a63f9dc668"
      },
      "execution_count": 33,
      "outputs": [
        {
          "output_type": "stream",
          "name": "stdout",
          "text": [
            "문제 11. 분반별 점수 평균\n",
            "분반\n",
            "A    75.89\n",
            "B    77.25\n",
            "C    80.50\n",
            "Name: 점수, dtype: float64\n"
          ]
        }
      ]
    },
    {
      "cell_type": "markdown",
      "source": [
        "#문제 12"
      ],
      "metadata": {
        "id": "1cjcujT15gjS"
      }
    },
    {
      "cell_type": "code",
      "source": [
        "plt.figure(figsize=(10, 6))\n",
        "plt.rc('font', family='NanumBarunGothic')\n",
        "plt.bar(class_m.index, class_m.values, color='skyblue', width=0.6)\n",
        "plt.title('분반별 평균 점수', fontsize=16, fontproperties=font_prop)\n",
        "plt.xlabel('분반', fontsize=14, fontproperties=font_prop)\n",
        "plt.ylabel('평균 점수', fontsize=14, fontproperties=font_prop)\n",
        "plt.grid(axis='y', alpha=0.3)\n",
        "plt.show()"
      ],
      "metadata": {
        "colab": {
          "base_uri": "https://localhost:8080/",
          "height": 585
        },
        "id": "BW40Con95hUg",
        "outputId": "fa72d6c7-35df-4a25-c348-0ac33c1e1390"
      },
      "execution_count": 50,
      "outputs": [
        {
          "output_type": "display_data",
          "data": {
            "text/plain": [
              "<Figure size 1000x600 with 1 Axes>"
            ],
            "image/png": "[encoded data removed]"
          },
          "metadata": {}
        }
      ]
    },
    {
      "cell_type": "code",
      "source": [
        "plt.figure(figsize=(10,6))\n",
        "plt.scatter(df_OTLx['공부시간'], df_OTLx['점수'], alpha=0.7)\n",
        "plt.title('공부시간과 점수의 관계', fontproperties=font_prop)\n",
        "plt.xlabel('공부시간', fontproperties=font_prop)\n",
        "plt.ylabel('점수', fontproperties=font_prop)\n",
        "plt.grid(True, alpha=0.2)\n",
        "plt.show()"
      ],
      "metadata": {
        "colab": {
          "base_uri": "https://localhost:8080/",
          "height": 423
        },
        "id": "ASMnXi_85eTy",
        "outputId": "0b3c2e9d-5be9-4a5c-942f-61d9503ff916"
      },
      "execution_count": 52,
      "outputs": [
        {
          "output_type": "display_data",
          "data": {
            "text/plain": [
              "<Figure size 1000x600 with 1 Axes>"
            ],
            "image/png": "[encoded data removed]"
          },
          "metadata": {}
        }
      ]
    },
    {
      "cell_type": "code",
      "source": [],
      "metadata": {
        "id": "d4j11GEP5VqB"
      },
      "execution_count": null,
      "outputs": []
    }
  ]
}
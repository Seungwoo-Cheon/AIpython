{
  "nbformat": 4,
  "nbformat_minor": 0,
  "metadata": {
    "colab": {
      "provenance": []
    },
    "kernelspec": {
      "name": "python3",
      "display_name": "Python 3"
    },
    "language_info": {
      "name": "python"
    }
  },
  "cells": [
    {
      "cell_type": "code",
      "execution_count": 1,
      "metadata": {
        "id": "0apidG4l5G3M"
      },
      "outputs": [],
      "source": [
        "#문제 1. 반지름이 5인 원의 면적을 구하시오. 원주율 값은 3.141592로 계산합니다.\n",
        "#출력예시. 반지름이 5인 원의 면적은 78.5398 입니다"
      ]
    },
    {
      "cell_type": "code",
      "source": [
        "#방법 1.\n",
        "r=int(5)\n",
        "\n",
        "pi=float(3.141592)\n",
        "area=float(pi*r**2)\n",
        "\n",
        "print(\"반지름이\",str(r)+\"인 원의 면적은\",area,\"입니다\")"
      ],
      "metadata": {
        "colab": {
          "base_uri": "https://localhost:8080/"
        },
        "id": "6goeOxZh5Q5i",
        "outputId": "db18e03b-1e55-4ba5-ca18-c838adcfac6d"
      },
      "execution_count": 20,
      "outputs": [
        {
          "output_type": "stream",
          "name": "stdout",
          "text": [
            "반지름이 5인 원의 면적은 78.5398 입니다\n"
          ]
        }
      ]
    },
    {
      "cell_type": "code",
      "source": [
        "#방법 2.\n",
        "r=int(5)\n",
        "\n",
        "pi=float(3.141952)\n",
        "area=float(pi*r**2)\n",
        "\n",
        "answer='반지름이 {}인 원의 면적은 {} 입니다'.format(r,area)\n",
        "answer"
      ],
      "metadata": {
        "colab": {
          "base_uri": "https://localhost:8080/",
          "height": 35
        },
        "id": "xOPGh0aT9AtB",
        "outputId": "b65ad028-ed23-4bb7-ccf1-be5e563177a4"
      },
      "execution_count": 25,
      "outputs": [
        {
          "output_type": "execute_result",
          "data": {
            "text/plain": [
              "'반지름이 5인 원의 면적은 78.5488 입니다'"
            ],
            "application/vnd.google.colaboratory.intrinsic+json": {
              "type": "string"
            }
          },
          "metadata": {},
          "execution_count": 25
        }
      ]
    },
    {
      "cell_type": "code",
      "source": [
        "#문제 2. 분(정수)을 시간과 분으로 변환하여 출력하시오.\n",
        "#출력예시. 100분은 1시간 40분 입니다."
      ],
      "metadata": {
        "id": "4n0q4IHQ6CQN"
      },
      "execution_count": 5,
      "outputs": []
    },
    {
      "cell_type": "code",
      "source": [
        "#방법 1.\n",
        "min=int(100)\n",
        "\n",
        "hr=int(min//60)\n",
        "min2=int(min-(hr*60))\n",
        "\n",
        "print(str(min)+\"분은\",str(hr)+\"시간\",str(min2)+\"분 입니다.\")"
      ],
      "metadata": {
        "colab": {
          "base_uri": "https://localhost:8080/"
        },
        "id": "bnEreml76IKN",
        "outputId": "25df491f-3a47-4c1b-e366-4ee596d3865f"
      },
      "execution_count": 26,
      "outputs": [
        {
          "output_type": "stream",
          "name": "stdout",
          "text": [
            "100분은 1시간 40분 입니다.\n"
          ]
        }
      ]
    },
    {
      "cell_type": "code",
      "source": [
        "#방법 2.\n",
        "min=int(100)\n",
        "\n",
        "hr=int(min//60)\n",
        "min2=int(min-(hr*60))\n",
        "\n",
        "answer='{}분은 {}시간 {}분 입니다.'.format(min,hr,min2)\n",
        "answer"
      ],
      "metadata": {
        "colab": {
          "base_uri": "https://localhost:8080/",
          "height": 35
        },
        "id": "S8M8szJZ9kYR",
        "outputId": "a9261da3-b3e6-4388-c67a-11d35d13b5db"
      },
      "execution_count": 27,
      "outputs": [
        {
          "output_type": "execute_result",
          "data": {
            "text/plain": [
              "'100분은 1시간 40분 입니다.'"
            ],
            "application/vnd.google.colaboratory.intrinsic+json": {
              "type": "string"
            }
          },
          "metadata": {},
          "execution_count": 27
        }
      ]
    }
  ]
}
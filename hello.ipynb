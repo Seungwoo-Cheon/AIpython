{
  "nbformat": 4,
  "nbformat_minor": 0,
  "metadata": {
    "colab": {
      "provenance": []
    },
    "kernelspec": {
      "name": "python3",
      "display_name": "Python 3"
    },
    "language_info": {
      "name": "python"
    }
  },
  "cells": [
    {
      "cell_type": "code",
      "execution_count": 1,
      "metadata": {
        "colab": {
          "base_uri": "https://localhost:8080/"
        },
        "id": "95S5QI6SQqYy",
        "outputId": "c3a6d083-849f-4d0f-9671-7e828744fbcf"
      },
      "outputs": [
        {
          "output_type": "stream",
          "name": "stdout",
          "text": [
            "Hello World\n"
          ]
        }
      ],
      "source": [
        "print(\"Hello World\")"
      ]
    },
    {
      "cell_type": "code",
      "source": [
        "a=\"Hello\"\n",
        "b=\"World\"\n",
        "print(\"a\",b)"
      ],
      "metadata": {
        "colab": {
          "base_uri": "https://localhost:8080/"
        },
        "id": "9hrOfvqKS9uv",
        "outputId": "8369c7d4-409e-40eb-df45-656053b4e05e"
      },
      "execution_count": 19,
      "outputs": [
        {
          "output_type": "stream",
          "name": "stdout",
          "text": [
            "a World\n"
          ]
        }
      ]
    },
    {
      "cell_type": "markdown",
      "source": [
        "모든 데이터는 변수에 넣는다. 변수는 메모리 공간이다.\n",
        "문자열은 \"\" 안에,\n",
        "변수는 \"\" 필요없음.\n",
        "숫자 데이터는 \"\" 필요없음."
      ],
      "metadata": {
        "id": "VAQdi7T9Tkd1"
      }
    },
    {
      "cell_type": "code",
      "source": [
        "print(\"hello\")"
      ],
      "metadata": {
        "colab": {
          "base_uri": "https://localhost:8080/"
        },
        "id": "xyR2XXQLRpcP",
        "outputId": "1a90d807-84d7-4936-c4a5-26d09c321376"
      },
      "execution_count": 2,
      "outputs": [
        {
          "output_type": "stream",
          "name": "stdout",
          "text": [
            "hello\n"
          ]
        }
      ]
    },
    {
      "cell_type": "code",
      "source": [
        "print(\"world\")"
      ],
      "metadata": {
        "colab": {
          "base_uri": "https://localhost:8080/"
        },
        "id": "EfOG287KRt-5",
        "outputId": "6f933ed6-7835-4555-e6f2-3591f263f6f1"
      },
      "execution_count": 3,
      "outputs": [
        {
          "output_type": "stream",
          "name": "stdout",
          "text": [
            "world\n"
          ]
        }
      ]
    },
    {
      "cell_type": "markdown",
      "source": [
        "파이썬 출력하기"
      ],
      "metadata": {
        "id": "BLz_nJisR0pK"
      }
    },
    {
      "cell_type": "code",
      "source": [
        "a=\"1\"\n",
        "b=2\n",
        "print(a,b)"
      ],
      "metadata": {
        "colab": {
          "base_uri": "https://localhost:8080/"
        },
        "id": "cGmwthpVR6Fc",
        "outputId": "6b957d3f-0cd7-4f95-8c54-cc3f1b978712"
      },
      "execution_count": 23,
      "outputs": [
        {
          "output_type": "stream",
          "name": "stdout",
          "text": [
            "1 2\n"
          ]
        }
      ]
    },
    {
      "cell_type": "code",
      "source": [
        "print(a+str(b))"
      ],
      "metadata": {
        "colab": {
          "base_uri": "https://localhost:8080/"
        },
        "id": "7J8Iz9OPVMCv",
        "outputId": "2cc37bdb-0b99-45ab-ee66-12d89d3b3e55"
      },
      "execution_count": 27,
      "outputs": [
        {
          "output_type": "stream",
          "name": "stdout",
          "text": [
            "12\n"
          ]
        }
      ]
    },
    {
      "cell_type": "markdown",
      "source": [
        "#제목\n",
        "#정의\n",
        "#연산\n",
        "#출력"
      ],
      "metadata": {
        "id": "NNePj8kXXcdc"
      }
    },
    {
      "cell_type": "code",
      "source": [
        "#두 수의 합과 차를 계산하는 프로그램\n",
        "num1=25\n",
        "num2=10\n",
        "sum_result=num1+num2\n",
        "diff_result=num1+num2\n",
        "print(\"Sum:\",sum_result)\n",
        "print(\"Difference:\",diff_result)"
      ],
      "metadata": {
        "colab": {
          "base_uri": "https://localhost:8080/"
        },
        "id": "tI170ebeYMyH",
        "outputId": "8b89bbfc-4992-49db-cd68-b0fbc9dcdfa0"
      },
      "execution_count": 29,
      "outputs": [
        {
          "output_type": "stream",
          "name": "stdout",
          "text": [
            "Sum: 35\n",
            "Difference: 35\n"
          ]
        }
      ]
    },
    {
      "cell_type": "markdown",
      "source": [
        "#예약어(키워드)\n",
        "#식별자\n",
        "\n",
        "식별자 규칙:\n",
        "문자, 숫자, 밑줄(_)로 구성될 수 있다.\n",
        "숫자 시작 불가\n",
        "대소문자 구분\n",
        "예약어 사용불가\n",
        "공백 사용불가\n",
        "프로그래머가 알 수 있는 최선의 이름으로 정하라. 식별할 수 있도록."
      ],
      "metadata": {
        "id": "DimlSxB2ZAvj"
      }
    },
    {
      "cell_type": "code",
      "source": [],
      "metadata": {
        "id": "FhGNwqHZZKX_"
      },
      "execution_count": null,
      "outputs": []
    }
  ]
}